{
 "cells": [
  {
   "cell_type": "code",
   "execution_count": 5,
   "metadata": {},
   "outputs": [],
   "source": [
    "# Student.objects.all().delete()\n",
    "# Instructor.objects.all().delete()"
   ]
  },
  {
   "cell_type": "code",
   "execution_count": 7,
   "metadata": {},
   "outputs": [],
   "source": [
    "# s1, s2, s3 = [\n",
    "#     Student.objects.create(name=name, age=1, school='패캠')\n",
    "#     for name in '신보라, 박홍빈, 문경호'.split(' ,')\n",
    "# ]"
   ]
  },
  {
   "cell_type": "code",
   "execution_count": 8,
   "metadata": {},
   "outputs": [],
   "source": [
    "# i1, i2, i3 = [\n",
    "#     Instructor.objects.create(name=name, age=3, academy='하이헬로')\n",
    "#     for name in '박지혜, 이한영, 박종현'.split(' ,')\n",
    "# ]"
   ]
  },
  {
   "cell_type": "code",
   "execution_count": 9,
   "metadata": {},
   "outputs": [],
   "source": [
    "# Student.objects.all()"
   ]
  },
  {
   "cell_type": "code",
   "execution_count": 11,
   "metadata": {},
   "outputs": [],
   "source": [
    "# Instructor.objects.all()"
   ]
  },
  {
   "cell_type": "code",
   "execution_count": 1,
   "metadata": {},
   "outputs": [],
   "source": [
    "# 아무것도 지정을 하지않으면 정렬 순서는 pk이다.\n",
    "# 어떤 순서로 배치하겠다고 말을 하지않으면 db에 들어있는 순서대로 나오긴 하지만 꼭 pk순서가 아닐 수도 있다.\n",
    "# 그래서 우리가 class Meta: ordering을 해줄 수 있다. "
   ]
  },
  {
   "cell_type": "code",
   "execution_count": null,
   "metadata": {},
   "outputs": [],
   "source": []
  },
  {
   "cell_type": "code",
   "execution_count": 2,
   "metadata": {},
   "outputs": [],
   "source": [
    "# student = Student.objects.get_or_create(name = '이한영', age=1)[1]"
   ]
  },
  {
   "cell_type": "code",
   "execution_count": 3,
   "metadata": {},
   "outputs": [],
   "source": [
    "# a = ChildA.objects.create(m2m=student)\n",
    "# b = ChildB.objects.create(m2m=student)"
   ]
  },
  {
   "cell_type": "code",
   "execution_count": 4,
   "metadata": {},
   "outputs": [],
   "source": [
    "# a.m2m\n",
    "# b.m2m"
   ]
  },
  {
   "cell_type": "code",
   "execution_count": null,
   "metadata": {},
   "outputs": [],
   "source": [
    "# student.abstract_set.all()"
   ]
  }
 ],
 "metadata": {
  "kernelspec": {
   "display_name": "Django Shell-Plus",
   "language": "python",
   "name": "django_extensions"
  },
  "language_info": {
   "codemirror_mode": {
    "name": "ipython",
    "version": 3
   },
   "file_extension": ".py",
   "mimetype": "text/x-python",
   "name": "python",
   "nbconvert_exporter": "python",
   "pygments_lexer": "ipython3",
   "version": "3.7.4"
  }
 },
 "nbformat": 4,
 "nbformat_minor": 2
}
